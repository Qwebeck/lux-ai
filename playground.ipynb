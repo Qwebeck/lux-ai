{
 "cells": [
  {
   "cell_type": "code",
   "execution_count": 1,
   "metadata": {},
   "outputs": [],
   "source": [
    "from ray.rllib.models.torch.torch_distributions import TorchCategorical, TorchDeterministic, TorchDiagGaussian, TorchMultiDistribution\n",
    "import numpy as np\n",
    "import torch\n",
    "import os \n"
   ]
  },
  {
   "cell_type": "code",
   "execution_count": 2,
   "metadata": {},
   "outputs": [],
   "source": [
    "A = torch.tensor(np.ones((5,6)))\n"
   ]
  },
  {
   "cell_type": "code",
   "execution_count": 3,
   "metadata": {},
   "outputs": [
    {
     "data": {
      "text/plain": [
       "tensor([[79, 60, 96, 40, 45],\n",
       "        [ 6, 33, 73, 80, 45],\n",
       "        [58, 96, 72, 12, 54],\n",
       "        [83, 17, 10, 20, 15],\n",
       "        [72, 82, 66, 18, 18]])"
      ]
     },
     "execution_count": 3,
     "metadata": {},
     "output_type": "execute_result"
    }
   ],
   "source": [
    "TorchCategorical.from_logits(torch.tensor(np.zeros((5, 5, 100)))).sample()"
   ]
  },
  {
   "cell_type": "code",
   "execution_count": 4,
   "metadata": {},
   "outputs": [
    {
     "data": {
      "text/plain": [
       "torch.Size([5, 3])"
      ]
     },
     "execution_count": 4,
     "metadata": {},
     "output_type": "execute_result"
    }
   ],
   "source": [
    "TorchDiagGaussian.from_logits(A).sample().shape"
   ]
  },
  {
   "cell_type": "code",
   "execution_count": 6,
   "metadata": {},
   "outputs": [
    {
     "data": {
      "text/plain": [
       "{'action1': tensor([[1., 1., 1., 1., 1., 1.],\n",
       "         [1., 1., 1., 1., 1., 1.],\n",
       "         [1., 1., 1., 1., 1., 1.],\n",
       "         [1., 1., 1., 1., 1., 1.],\n",
       "         [1., 1., 1., 1., 1., 1.]], dtype=torch.float64),\n",
       " 'action2': tensor([[1., 1., 1., 1., 1., 1.],\n",
       "         [1., 1., 1., 1., 1., 1.],\n",
       "         [1., 1., 1., 1., 1., 1.],\n",
       "         [1., 1., 1., 1., 1., 1.],\n",
       "         [1., 1., 1., 1., 1., 1.]], dtype=torch.float64)}"
      ]
     },
     "execution_count": 6,
     "metadata": {},
     "output_type": "execute_result"
    }
   ],
   "source": [
    "TorchMultiDistribution({\n",
    "    'action1': TorchDeterministic(A),\n",
    "    'action2': TorchDeterministic(A)\n",
    "}).sample()"
   ]
  },
  {
   "cell_type": "code",
   "execution_count": 69,
   "metadata": {},
   "outputs": [
    {
     "name": "stdout",
     "output_type": "stream",
     "text": [
      "The autoreload extension is already loaded. To reload it, use:\n",
      "  %reload_ext autoreload\n"
     ]
    }
   ],
   "source": [
    "%load_ext autoreload\n",
    "%autoreload 2\n",
    "from train import RayWrapper\n",
    "from policy.net import Net\n",
    "import tree\n",
    "from luxai_s2.env import LuxAI_S2\n",
    "from dataclasses import asdict\n",
    "from impl_config import EnvParam\n",
    "from lux.config import EnvConfig\n",
    "from lux.kit import obs_to_game_state\n",
    "from helpers.get_valid_actions import get_valid_actions\n",
    "from policy.early_setup_player import EarlySetupPlayer\n",
    "\n",
    "env_cfg = {\n",
    "        **asdict(EnvConfig()),\n",
    "                \"MIN_FACTORIES\": EnvParam.MIN_FACTORIES,\n",
    "                \"MAX_FACTORIES\": EnvParam.MAX_FACTORIES,\n",
    "                \"verbose\": 0,\n",
    "                \"collect_stats\": True,\n",
    "                \"FACTORY_WATER_CONSUMPTION\": 0,\n",
    "                \"max_episode_length\": 1000,\n",
    "                \"BIDDING_SYSTEM\": True\n",
    "}\n",
    "\n",
    "wrapper = RayWrapper(env_cfg)\n",
    "obs = wrapper.reset()"
   ]
  },
  {
   "cell_type": "code",
   "execution_count": 73,
   "metadata": {},
   "outputs": [],
   "source": [
    "def get_mock_obs():\n",
    "    sample_obs = RayWrapper.get_observation_space().sample()['player_0']\n",
    "    sample_obs = tree.map_structure(lambda x: torch.tensor(x[None]), sample_obs)\n",
    "    return sample_obs\n",
    "\n",
    "def get_real_obs():\n",
    "    sample_obs = obs['my_obs']\n",
    "    sample_obs = {\n",
    "        'global_feature': torch.tensor(sample_obs.global_features[None]),\n",
    "        'map_feature': torch.tensor(sample_obs.map_feature[None]),\n",
    "        'action_feature': tree.map_structure(lambda x: torch.tensor(x[None]), sample_obs.action_feature)\n",
    "    }\n",
    "    return sample_obs\n",
    "\n",
    "mock_observations = False\n",
    "sample_obs = get_mock_obs() if mock_observations else get_real_obs()\n",
    "\n",
    "valid_actions = obs['valid_actions']\n",
    "valid_actions = tree.map_structure(lambda x: torch.tensor(x[None]), valid_actions)\n"
   ]
  },
  {
   "cell_type": "code",
   "execution_count": 76,
   "metadata": {},
   "outputs": [
    {
     "data": {
      "text/plain": [
       "(tensor([0.]),\n",
       " tensor([-0.0002], grad_fn=<MeanBackward1>),\n",
       " {'factory_act': tensor([[[0, 0, 0,  ..., 0, 0, 0],\n",
       "           [0, 0, 0,  ..., 0, 0, 0],\n",
       "           [0, 0, 0,  ..., 0, 0, 0],\n",
       "           ...,\n",
       "           [0, 0, 0,  ..., 0, 0, 0],\n",
       "           [0, 0, 0,  ..., 0, 0, 0],\n",
       "           [0, 0, 0,  ..., 0, 0, 0]]]),\n",
       "  'unit_act': tensor([[[[0., 0., 0.,  ..., 0., 0., 0.],\n",
       "            [0., 0., 0.,  ..., 0., 0., 0.],\n",
       "            [0., 0., 0.,  ..., 0., 0., 0.],\n",
       "            ...,\n",
       "            [0., 0., 0.,  ..., 0., 0., 0.],\n",
       "            [0., 0., 0.,  ..., 0., 0., 0.],\n",
       "            [0., 0., 0.,  ..., 0., 0., 0.]],\n",
       "  \n",
       "           [[0., 0., 0.,  ..., 0., 0., 0.],\n",
       "            [0., 0., 0.,  ..., 0., 0., 0.],\n",
       "            [0., 0., 0.,  ..., 0., 0., 0.],\n",
       "            ...,\n",
       "            [0., 0., 0.,  ..., 0., 0., 0.],\n",
       "            [0., 0., 0.,  ..., 0., 0., 0.],\n",
       "            [0., 0., 0.,  ..., 0., 0., 0.]],\n",
       "  \n",
       "           [[0., 0., 0.,  ..., 0., 0., 0.],\n",
       "            [0., 0., 0.,  ..., 0., 0., 0.],\n",
       "            [0., 0., 0.,  ..., 0., 0., 0.],\n",
       "            ...,\n",
       "            [0., 0., 0.,  ..., 0., 0., 0.],\n",
       "            [0., 0., 0.,  ..., 0., 0., 0.],\n",
       "            [0., 0., 0.,  ..., 0., 0., 0.]],\n",
       "  \n",
       "           [[0., 0., 0.,  ..., 0., 0., 0.],\n",
       "            [0., 0., 0.,  ..., 0., 0., 0.],\n",
       "            [0., 0., 0.,  ..., 0., 0., 0.],\n",
       "            ...,\n",
       "            [0., 0., 0.,  ..., 0., 0., 0.],\n",
       "            [0., 0., 0.,  ..., 0., 0., 0.],\n",
       "            [0., 0., 0.,  ..., 0., 0., 0.]],\n",
       "  \n",
       "           [[0., 0., 0.,  ..., 0., 0., 0.],\n",
       "            [0., 0., 0.,  ..., 0., 0., 0.],\n",
       "            [0., 0., 0.,  ..., 0., 0., 0.],\n",
       "            ...,\n",
       "            [0., 0., 0.,  ..., 0., 0., 0.],\n",
       "            [0., 0., 0.,  ..., 0., 0., 0.],\n",
       "            [0., 0., 0.,  ..., 0., 0., 0.]],\n",
       "  \n",
       "           [[0., 0., 0.,  ..., 0., 0., 0.],\n",
       "            [0., 0., 0.,  ..., 0., 0., 0.],\n",
       "            [0., 0., 0.,  ..., 0., 0., 0.],\n",
       "            ...,\n",
       "            [0., 0., 0.,  ..., 0., 0., 0.],\n",
       "            [0., 0., 0.,  ..., 0., 0., 0.],\n",
       "            [0., 0., 0.,  ..., 0., 0., 0.]]]])},\n",
       " tensor([0.]))"
      ]
     },
     "execution_count": 76,
     "metadata": {},
     "output_type": "execute_result"
    }
   ],
   "source": [
    "net = Net()\n",
    "\n",
    "output = logp, critic_value, action, entropy = net(**sample_obs, va=valid_actions)\n",
    "output"
   ]
  },
  {
   "cell_type": "code",
   "execution_count": null,
   "metadata": {},
   "outputs": [],
   "source": []
  }
 ],
 "metadata": {
  "kernelspec": {
   "display_name": "lux_ai",
   "language": "python",
   "name": "python3"
  },
  "language_info": {
   "codemirror_mode": {
    "name": "ipython",
    "version": 3
   },
   "file_extension": ".py",
   "mimetype": "text/x-python",
   "name": "python",
   "nbconvert_exporter": "python",
   "pygments_lexer": "ipython3",
   "version": "3.9.16"
  }
 },
 "nbformat": 4,
 "nbformat_minor": 2
}
